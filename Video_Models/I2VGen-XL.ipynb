{
 "cells": [
  {
   "cell_type": "code",
   "execution_count": 1,
   "id": "82092c3b-26f5-4231-a65c-22c11faef838",
   "metadata": {},
   "outputs": [
    {
     "data": {
      "text/plain": [
       "'2.3.1+cu118'"
      ]
     },
     "execution_count": 1,
     "metadata": {},
     "output_type": "execute_result"
    }
   ],
   "source": [
    "import torch\n",
    "torch.__version__"
   ]
  },
  {
   "cell_type": "code",
   "execution_count": 2,
   "id": "f5e26cde-fd26-43ac-a29a-588da0921c66",
   "metadata": {},
   "outputs": [
    {
     "name": "stdout",
     "output_type": "stream",
     "text": [
      "Sun Jun 16 17:28:33 2024       \n",
      "+-----------------------------------------------------------------------------------------+\n",
      "| NVIDIA-SMI 555.99                 Driver Version: 555.99         CUDA Version: 12.5     |\n",
      "|-----------------------------------------+------------------------+----------------------+\n",
      "| GPU  Name                  Driver-Model | Bus-Id          Disp.A | Volatile Uncorr. ECC |\n",
      "| Fan  Temp   Perf          Pwr:Usage/Cap |           Memory-Usage | GPU-Util  Compute M. |\n",
      "|                                         |                        |               MIG M. |\n",
      "|=========================================+========================+======================|\n",
      "|   0  NVIDIA GeForce RTX 3060 ...  WDDM  |   00000000:01:00.0  On |                  N/A |\n",
      "| N/A   43C    P8             10W /  115W |     137MiB /   6144MiB |      0%      Default |\n",
      "|                                         |                        |                  N/A |\n",
      "+-----------------------------------------+------------------------+----------------------+\n",
      "                                                                                         \n",
      "+-----------------------------------------------------------------------------------------+\n",
      "| Processes:                                                                              |\n",
      "|  GPU   GI   CI        PID   Type   Process name                              GPU Memory |\n",
      "|        ID   ID                                                               Usage      |\n",
      "|=========================================================================================|\n",
      "+-----------------------------------------------------------------------------------------+\n"
     ]
    }
   ],
   "source": [
    "!nvidia-smi"
   ]
  },
  {
   "cell_type": "code",
   "execution_count": 3,
   "id": "f71e9ae7-45f8-481e-a835-61932931ec87",
   "metadata": {},
   "outputs": [
    {
     "name": "stderr",
     "output_type": "stream",
     "text": [
      "C:\\Users\\akagr\\myenv\\Lib\\site-packages\\diffusers\\models\\transformers\\transformer_2d.py:34: FutureWarning: `Transformer2DModelOutput` is deprecated and will be removed in version 1.0.0. Importing `Transformer2DModelOutput` from `diffusers.models.transformer_2d` is deprecated and this will be removed in a future version. Please use `from diffusers.models.modeling_outputs import Transformer2DModelOutput`, instead.\n",
      "  deprecate(\"Transformer2DModelOutput\", \"1.0.0\", deprecation_message)\n"
     ]
    }
   ],
   "source": [
    "from diffusers import I2VGenXLPipeline"
   ]
  },
  {
   "cell_type": "code",
   "execution_count": 4,
   "id": "16264b3e-3aa3-4500-99a8-053df71626d8",
   "metadata": {},
   "outputs": [
    {
     "data": {
      "text/plain": [
       "'0.29.0'"
      ]
     },
     "execution_count": 4,
     "metadata": {},
     "output_type": "execute_result"
    }
   ],
   "source": [
    "import diffusers\n",
    "diffusers.__version__"
   ]
  },
  {
   "cell_type": "code",
   "execution_count": 5,
   "id": "a2b8e643-6d7b-46a2-8133-aef0a96fd315",
   "metadata": {},
   "outputs": [],
   "source": [
    "from diffusers.utils import load_image, export_to_video"
   ]
  },
  {
   "cell_type": "code",
   "execution_count": 6,
   "id": "a9b2a73f-d24a-45dc-a67c-4b3e34e8e1ff",
   "metadata": {},
   "outputs": [],
   "source": [
    "repo_id = 'ali-vilab/i2vgen-xl'"
   ]
  },
  {
   "cell_type": "code",
   "execution_count": 7,
   "id": "8f3099a9-26bb-44cc-914f-84b70644dd3d",
   "metadata": {},
   "outputs": [
    {
     "data": {
      "application/vnd.jupyter.widget-view+json": {
       "model_id": "a110222fea524e0e9a96a04ed74fd172",
       "version_major": 2,
       "version_minor": 0
      },
      "text/plain": [
       "Loading pipeline components...:   0%|          | 0/7 [00:00<?, ?it/s]"
      ]
     },
     "metadata": {},
     "output_type": "display_data"
    }
   ],
   "source": [
    "pipeline = I2VGenXLPipeline.from_pretrained(repo_id, torch_dtype=torch.float16,variant='fp16')\n",
    "pipeline.enable_model_cpu_offload()"
   ]
  },
  {
   "cell_type": "code",
   "execution_count": 8,
   "id": "93c1033f-5193-4f7a-ae20-61ba132da61b",
   "metadata": {},
   "outputs": [],
   "source": [
    "image = load_image('astro_moon.png')"
   ]
  },
  {
   "cell_type": "code",
   "execution_count": 9,
   "id": "69fa58c9-c635-4c13-8d6f-796dcd845b45",
   "metadata": {},
   "outputs": [],
   "source": [
    "prompt = 'astronaut on the moon jumping straight up'"
   ]
  },
  {
   "cell_type": "code",
   "execution_count": 10,
   "id": "f0cc0738-9a14-4463-b8e8-8b65b1649697",
   "metadata": {},
   "outputs": [],
   "source": [
    "generator = torch.manual_seed(8888)"
   ]
  },
  {
   "cell_type": "code",
   "execution_count": null,
   "id": "bdc953e9-00f2-4310-93a5-5ccd31d7761c",
   "metadata": {},
   "outputs": [
    {
     "name": "stderr",
     "output_type": "stream",
     "text": [
      "C:\\Users\\akagr\\myenv\\Lib\\site-packages\\diffusers\\models\\attention_processor.py:1584: UserWarning: 1Torch was not compiled with flash attention. (Triggered internally at ..\\aten\\src\\ATen\\native\\transformers\\cuda\\sdp_utils.cpp:455.)\n",
      "  hidden_states = F.scaled_dot_product_attention(\n"
     ]
    },
    {
     "data": {
      "application/vnd.jupyter.widget-view+json": {
       "model_id": "0576cd39da8c4736b794a48857aee329",
       "version_major": 2,
       "version_minor": 0
      },
      "text/plain": [
       "  0%|          | 0/50 [00:00<?, ?it/s]"
      ]
     },
     "metadata": {},
     "output_type": "display_data"
    }
   ],
   "source": [
    "frames = pipeline(prompt=prompt , image=image , generator=generator).frames[0]"
   ]
  },
  {
   "cell_type": "code",
   "execution_count": null,
   "id": "91b52467-8474-484c-aa71-a53ba016c41e",
   "metadata": {},
   "outputs": [],
   "source": [
    "export_to_video(frames,'astro_jump_vid.mp4',fps=8)"
   ]
  },
  {
   "cell_type": "code",
   "execution_count": null,
   "id": "d51717e0-af23-4ab7-99a9-5a1888f6bea5",
   "metadata": {},
   "outputs": [],
   "source": []
  }
 ],
 "metadata": {
  "kernelspec": {
   "display_name": "Python 3 (ipykernel)",
   "language": "python",
   "name": "python3"
  },
  "language_info": {
   "codemirror_mode": {
    "name": "ipython",
    "version": 3
   },
   "file_extension": ".py",
   "mimetype": "text/x-python",
   "name": "python",
   "nbconvert_exporter": "python",
   "pygments_lexer": "ipython3",
   "version": "3.12.4"
  }
 },
 "nbformat": 4,
 "nbformat_minor": 5
}
