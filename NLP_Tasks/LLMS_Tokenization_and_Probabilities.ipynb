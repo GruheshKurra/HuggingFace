{
 "cells": [
  {
   "cell_type": "code",
   "execution_count": 1,
   "id": "4b9d9054-afe8-4bb9-9017-e2af95a772c2",
   "metadata": {},
   "outputs": [],
   "source": [
    "import torch"
   ]
  },
  {
   "cell_type": "code",
   "execution_count": 2,
   "id": "fb525f9a-d411-4717-ac6e-bd97e3b80ae4",
   "metadata": {},
   "outputs": [
    {
     "data": {
      "text/plain": [
       "'2.3.1+cu118'"
      ]
     },
     "execution_count": 2,
     "metadata": {},
     "output_type": "execute_result"
    }
   ],
   "source": [
    "torch.__version__"
   ]
  },
  {
   "cell_type": "code",
   "execution_count": 3,
   "id": "53f1c4a9-8593-465b-8b6e-ac7454e935c0",
   "metadata": {},
   "outputs": [],
   "source": [
    "import transformers"
   ]
  },
  {
   "cell_type": "code",
   "execution_count": 4,
   "id": "6e6da4a9-9cca-4627-8b6f-a31765c6e81f",
   "metadata": {},
   "outputs": [
    {
     "data": {
      "text/plain": [
       "'4.41.2'"
      ]
     },
     "execution_count": 4,
     "metadata": {},
     "output_type": "execute_result"
    }
   ],
   "source": [
    "transformers.__version__"
   ]
  },
  {
   "cell_type": "code",
   "execution_count": 5,
   "id": "c0600801-0286-4fc8-8584-4a9ca8c0231b",
   "metadata": {},
   "outputs": [],
   "source": [
    "from transformers import AutoTokenizer"
   ]
  },
  {
   "cell_type": "code",
   "execution_count": 6,
   "id": "8c834673-c7e6-4cd2-8f81-47de27dc45f2",
   "metadata": {},
   "outputs": [
    {
     "name": "stdout",
     "output_type": "stream",
     "text": [
      "WARNING:tensorflow:From C:\\Users\\akagr\\myenv\\Lib\\site-packages\\tf_keras\\src\\losses.py:2976: The name tf.losses.sparse_softmax_cross_entropy is deprecated. Please use tf.compat.v1.losses.sparse_softmax_cross_entropy instead.\n",
      "\n"
     ]
    }
   ],
   "source": [
    "from transformers import pipeline\n",
    "pipe = pipeline(\"text-generation\", model=\"openai-community/gpt2\")"
   ]
  },
  {
   "cell_type": "code",
   "execution_count": 7,
   "id": "58a52030-ae62-4f7d-b34b-0e895cf5b481",
   "metadata": {},
   "outputs": [],
   "source": [
    "from transformers import AutoTokenizer\n",
    "tokenizer = AutoTokenizer.from_pretrained(\"gpt2\")"
   ]
  },
  {
   "cell_type": "code",
   "execution_count": 8,
   "id": "64903dfe-b812-4c3e-8c50-76b1e525ac09",
   "metadata": {},
   "outputs": [],
   "source": [
    "sentence = \"i skip across the\""
   ]
  },
  {
   "cell_type": "code",
   "execution_count": 9,
   "id": "79030529-171a-4df5-bc00-948ce3767779",
   "metadata": {},
   "outputs": [],
   "source": [
    "input_ids = tokenizer(sentence, return_tensors='pt').input_ids"
   ]
  },
  {
   "cell_type": "code",
   "execution_count": 10,
   "id": "74c6d439-4357-4df2-bb95-02aba5ecfc1b",
   "metadata": {},
   "outputs": [
    {
     "data": {
      "text/plain": [
       "tensor([[   72, 14267,  1973,   262]])"
      ]
     },
     "execution_count": 10,
     "metadata": {},
     "output_type": "execute_result"
    }
   ],
   "source": [
    "input_ids"
   ]
  },
  {
   "cell_type": "code",
   "execution_count": 11,
   "id": "294a2ba3-a357-43ec-a913-e464aa4f2628",
   "metadata": {},
   "outputs": [],
   "source": [
    "# words --> tokens --> Unique ID --> vector embeddings inside the model internally"
   ]
  },
  {
   "cell_type": "code",
   "execution_count": 12,
   "id": "dddf80cb-3a45-4574-8d9e-a9383337df39",
   "metadata": {},
   "outputs": [
    {
     "data": {
      "text/plain": [
       "'iced'"
      ]
     },
     "execution_count": 12,
     "metadata": {},
     "output_type": "execute_result"
    }
   ],
   "source": [
    "tokenizer.decode(3711)"
   ]
  },
  {
   "cell_type": "code",
   "execution_count": 13,
   "id": "89031b1f-7a25-42bf-8e90-9b3fa04646f9",
   "metadata": {},
   "outputs": [
    {
     "name": "stdout",
     "output_type": "stream",
     "text": [
      "i\n",
      " skip\n",
      " across\n",
      " the\n"
     ]
    }
   ],
   "source": [
    "for token_id in input_ids[0]:\n",
    "    print(tokenizer.decode(token_id))"
   ]
  },
  {
   "cell_type": "code",
   "execution_count": 14,
   "id": "340e796d-8d45-4b62-a786-232fdfa61986",
   "metadata": {},
   "outputs": [],
   "source": [
    "from transformers import AutoModelForCausalLM"
   ]
  },
  {
   "cell_type": "code",
   "execution_count": 15,
   "id": "9ead268a-a7d5-441e-b155-7513ebe976f7",
   "metadata": {},
   "outputs": [],
   "source": [
    "gpt2 = AutoModelForCausalLM.from_pretrained(\"gpt2\")"
   ]
  },
  {
   "cell_type": "code",
   "execution_count": 16,
   "id": "93398eb6-3311-4421-b912-9d3d3f044350",
   "metadata": {},
   "outputs": [
    {
     "data": {
      "text/plain": [
       "tensor([[   72, 14267,  1973,   262]])"
      ]
     },
     "execution_count": 16,
     "metadata": {},
     "output_type": "execute_result"
    }
   ],
   "source": [
    "input_ids"
   ]
  },
  {
   "cell_type": "code",
   "execution_count": 17,
   "id": "73e7a06f-576e-411f-9c49-edfa3fba5e08",
   "metadata": {},
   "outputs": [],
   "source": [
    "outputs = gpt2(input_ids)"
   ]
  },
  {
   "cell_type": "code",
   "execution_count": 18,
   "id": "60919613-c476-48e9-aa55-cb62bd23869f",
   "metadata": {},
   "outputs": [
    {
     "data": {
      "text/plain": [
       "torch.Size([1, 4, 50257])"
      ]
     },
     "execution_count": 18,
     "metadata": {},
     "output_type": "execute_result"
    }
   ],
   "source": [
    "outputs.logits.shape"
   ]
  },
  {
   "cell_type": "code",
   "execution_count": 19,
   "id": "9c8f37d4-4cf6-4590-a7e4-c8e7fcbcfea0",
   "metadata": {},
   "outputs": [],
   "source": [
    "final_logits = gpt2(input_ids).logits[0,-1]"
   ]
  },
  {
   "cell_type": "code",
   "execution_count": 20,
   "id": "a22c78fe-03df-4790-8305-48c9803c03f6",
   "metadata": {},
   "outputs": [
    {
     "data": {
      "text/plain": [
       "tensor([-87.7328, -86.4928, -89.6479,  ..., -88.9680, -90.8354, -86.7778],\n",
       "       grad_fn=<SelectBackward0>)"
      ]
     },
     "execution_count": 20,
     "metadata": {},
     "output_type": "execute_result"
    }
   ],
   "source": [
    "final_logits"
   ]
  },
  {
   "cell_type": "code",
   "execution_count": 21,
   "id": "07c5df1c-9f6a-466a-9f18-7175ccf832ae",
   "metadata": {},
   "outputs": [
    {
     "data": {
      "text/plain": [
       "torch.Size([50257])"
      ]
     },
     "execution_count": 21,
     "metadata": {},
     "output_type": "execute_result"
    }
   ],
   "source": [
    "final_logits.shape"
   ]
  },
  {
   "cell_type": "code",
   "execution_count": 22,
   "id": "81834ea4-56f5-44a2-9953-79872d94b48f",
   "metadata": {},
   "outputs": [
    {
     "data": {
      "text/plain": [
       "tensor(4675)"
      ]
     },
     "execution_count": 22,
     "metadata": {},
     "output_type": "execute_result"
    }
   ],
   "source": [
    "final_logits.argmax() # token ID --> Index location logits"
   ]
  },
  {
   "cell_type": "code",
   "execution_count": 23,
   "id": "beb4084c-308b-4c48-a143-d2e051d6c272",
   "metadata": {},
   "outputs": [
    {
     "data": {
      "text/plain": [
       "' street'"
      ]
     },
     "execution_count": 23,
     "metadata": {},
     "output_type": "execute_result"
    }
   ],
   "source": [
    "tokenizer.decode(final_logits.argmax())"
   ]
  },
  {
   "cell_type": "code",
   "execution_count": 24,
   "id": "8e02aad2-7b75-4036-becd-c029ec794754",
   "metadata": {},
   "outputs": [],
   "source": [
    "top10_logits = torch.topk(final_logits,10)"
   ]
  },
  {
   "cell_type": "code",
   "execution_count": 25,
   "id": "1cc125c0-ce28-4cc8-9043-12dc1c46199f",
   "metadata": {},
   "outputs": [
    {
     "name": "stdout",
     "output_type": "stream",
     "text": [
      " street\n",
      " river\n",
      " room\n",
      " country\n",
      " road\n",
      " floor\n",
      " line\n",
      " border\n",
      " bridge\n",
      " city\n"
     ]
    }
   ],
   "source": [
    "for index in top10_logits.indices:\n",
    "    print(tokenizer.decode(index))"
   ]
  },
  {
   "cell_type": "code",
   "execution_count": 26,
   "id": "1f4dea40-93bc-448c-8406-4dfe4bf5c03a",
   "metadata": {},
   "outputs": [
    {
     "data": {
      "text/plain": [
       "tensor([8.9118e-07, 3.0796e-06, 1.3129e-07,  ..., 2.5911e-07, 4.0040e-08,\n",
       "        2.3158e-06], grad_fn=<SoftmaxBackward0>)"
      ]
     },
     "execution_count": 26,
     "metadata": {},
     "output_type": "execute_result"
    }
   ],
   "source": [
    "final_logits.softmax(dim=0)"
   ]
  },
  {
   "cell_type": "code",
   "execution_count": 27,
   "id": "5e3f16e5-e337-4ef7-870d-c213e4b37453",
   "metadata": {},
   "outputs": [],
   "source": [
    "top10 = torch.topk(final_logits.softmax(dim=0),10)"
   ]
  },
  {
   "cell_type": "code",
   "execution_count": 28,
   "id": "fe306483-3fc1-4de4-bdb3-09be9b6cc973",
   "metadata": {},
   "outputs": [
    {
     "name": "stdout",
     "output_type": "stream",
     "text": [
      " street -- 2.5%\n",
      " river -- 2.3%\n",
      " room -- 2.1%\n",
      " country -- 1.7%\n",
      " road -- 1.6%\n",
      " floor -- 1.4%\n",
      " line -- 1.4%\n",
      " border -- 1.4%\n",
      " bridge -- 1.2%\n",
      " city -- 1.0%\n"
     ]
    }
   ],
   "source": [
    "for value, index in zip(top10.values, top10.indices):\n",
    "    print(f\"{tokenizer.decode(index)} -- {value.item():.1%}\")"
   ]
  },
  {
   "cell_type": "code",
   "execution_count": 29,
   "id": "c91b3f68-a30c-431a-a879-974277abba4d",
   "metadata": {},
   "outputs": [
    {
     "name": "stderr",
     "output_type": "stream",
     "text": [
      "The attention mask and the pad token id were not set. As a consequence, you may observe unexpected behavior. Please pass your input's `attention_mask` to obtain reliable results.\n",
      "Setting `pad_token_id` to `eos_token_id`:50256 for open-end generation.\n"
     ]
    }
   ],
   "source": [
    "output_ids = gpt2.generate(input_ids, max_new_tokens=20, do_sample=True, top_k=5, temperature=1.3)"
   ]
  },
  {
   "cell_type": "code",
   "execution_count": 30,
   "id": "b2a33b00-ef73-42b4-9b66-9ceb0d20a563",
   "metadata": {},
   "outputs": [],
   "source": [
    "decoded_text = tokenizer.decode(output_ids[0])"
   ]
  },
  {
   "cell_type": "code",
   "execution_count": 31,
   "id": "b2f1bcdc-f4e6-497e-83d8-bf33e2354331",
   "metadata": {},
   "outputs": [
    {
     "data": {
      "text/plain": [
       "'i skip across the river, the river was so full, it could barely contain the entire river, the whole river was'"
      ]
     },
     "execution_count": 31,
     "metadata": {},
     "output_type": "execute_result"
    }
   ],
   "source": [
    "decoded_text"
   ]
  },
  {
   "cell_type": "code",
   "execution_count": 32,
   "id": "2605ca1c-7bc3-46ce-ac21-6a7589e73f08",
   "metadata": {},
   "outputs": [
    {
     "name": "stdout",
     "output_type": "stream",
     "text": [
      "i skip across the river, the river was so full, it could barely contain the entire river, the whole river was\n"
     ]
    }
   ],
   "source": [
    "print(decoded_text)"
   ]
  },
  {
   "cell_type": "code",
   "execution_count": 33,
   "id": "4accd5c8-69fe-4c2a-829e-ca3aa715a727",
   "metadata": {
    "editable": true,
    "slideshow": {
     "slide_type": ""
    },
    "tags": []
   },
   "outputs": [],
   "source": [
    "# help(gpt2)"
   ]
  },
  {
   "cell_type": "code",
   "execution_count": 34,
   "id": "337c4827-63c8-4246-8c99-cf117c8a2dde",
   "metadata": {},
   "outputs": [],
   "source": [
    "from transformers import pipeline\n",
    "pipe = pipeline(\"text-generation\", model=\"openai-community/gpt2\")"
   ]
  },
  {
   "cell_type": "code",
   "execution_count": 35,
   "id": "3b09b1b3-c39c-4334-87aa-cf86623a8b22",
   "metadata": {},
   "outputs": [
    {
     "name": "stderr",
     "output_type": "stream",
     "text": [
      "Setting `pad_token_id` to `eos_token_id`:50256 for open-end generation.\n"
     ]
    },
    {
     "data": {
      "text/plain": [
       "[{'generated_text': 'I went to the happy store today and bought a iphone,\" he said.\\n\\nFellow employee, Dr. Kishon, told Metro-Review.com he purchased a phone from Erika at 10 AM on Thursday following the two'}]"
      ]
     },
     "execution_count": 35,
     "metadata": {},
     "output_type": "execute_result"
    }
   ],
   "source": [
    "pipe(\"I went to the happy store today and bought a \")"
   ]
  },
  {
   "cell_type": "code",
   "execution_count": null,
   "id": "e65b7490-257a-4aac-877a-0063c718a547",
   "metadata": {},
   "outputs": [],
   "source": []
  }
 ],
 "metadata": {
  "kernelspec": {
   "display_name": "Python 3 (ipykernel)",
   "language": "python",
   "name": "python3"
  },
  "language_info": {
   "codemirror_mode": {
    "name": "ipython",
    "version": 3
   },
   "file_extension": ".py",
   "mimetype": "text/x-python",
   "name": "python",
   "nbconvert_exporter": "python",
   "pygments_lexer": "ipython3",
   "version": "3.12.4"
  }
 },
 "nbformat": 4,
 "nbformat_minor": 5
}
